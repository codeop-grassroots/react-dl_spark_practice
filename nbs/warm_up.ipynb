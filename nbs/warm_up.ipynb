{
 "cells": [
  {
   "cell_type": "markdown",
   "metadata": {
    "application/vnd.databricks.v1+cell": {
     "cellMetadata": {
      "byteLimit": 2048000,
      "rowLimit": 10000
     },
     "inputWidgets": {},
     "nuid": "8a6304cd-64f7-4475-9392-f11f86516164",
     "showTitle": false,
     "title": ""
    }
   },
   "source": [
    "# Spark SQL with pySpark"
   ]
  },
  {
   "cell_type": "markdown",
   "metadata": {
    "application/vnd.databricks.v1+cell": {
     "cellMetadata": {
      "byteLimit": 2048000,
      "rowLimit": 10000
     },
     "inputWidgets": {},
     "nuid": "cc60ed8a-cc2e-4ce6-973e-9a2b2de17412",
     "showTitle": false,
     "title": ""
    }
   },
   "source": [
    "Find out how many orders, how many products and how many sellers are in the data."
   ]
  },
  {
   "cell_type": "code",
   "execution_count": null,
   "metadata": {
    "application/vnd.databricks.v1+cell": {
     "cellMetadata": {
      "byteLimit": 2048000,
      "rowLimit": 10000
     },
     "inputWidgets": {},
     "nuid": "7d1c2cf3-4100-495f-84c6-22b4306764d4",
     "showTitle": false,
     "title": ""
    }
   },
   "outputs": [],
   "source": [
    "from pyspark.sql import SparkSession\n",
    "from pyspark.sql.functions import *"
   ]
  },
  {
   "cell_type": "code",
   "execution_count": null,
   "metadata": {
    "application/vnd.databricks.v1+cell": {
     "cellMetadata": {
      "byteLimit": 2048000,
      "rowLimit": 10000
     },
     "inputWidgets": {},
     "nuid": "1e317b02-7308-40cb-ad64-b1cf4415154e",
     "showTitle": false,
     "title": ""
    }
   },
   "outputs": [],
   "source": [
    "spark = SparkSession.builder \\\n",
    "    .master(\"local\") \\\n",
    "    .config(\"spark.sql.autoBroadcastJoinThreshold\", -1) \\\n",
    "    .config(\"spark.executor.memory\", \"500mb\") \\\n",
    "    .appName(\"Exercise1\") \\\n",
    "    .getOrCreate()"
   ]
  },
  {
   "cell_type": "code",
   "execution_count": null,
   "metadata": {
    "application/vnd.databricks.v1+cell": {
     "cellMetadata": {
      "byteLimit": 2048000,
      "rowLimit": 10000
     },
     "inputWidgets": {},
     "nuid": "587aa7ce-4a73-4420-951a-502325dcc7ab",
     "showTitle": false,
     "title": ""
    }
   },
   "outputs": [],
   "source": [
    "# Read the source tables\n",
    "\n",
    "products_table = spark.read.parquet(\"./data/products_parquet\")\n",
    "sales_table = spark.read.parquet(\"./data/sales_parquet\")\n",
    "sellers_table = spark.read.parquet(\"./data/sellers_parquet\")\n",
    "\n",
    "# Databricks \n",
    "\n",
    "# products_table = spark.read.parquet(\"s3://codeop-react/ds/datasets/spark/practice_1/products_parquet/unified_products.parquet\")\n",
    "# sales_table = spark.read.parquet(\"s3://codeop-react/ds/datasets/spark/practice_1/sales_parquet/unified_sales.parquet\")\n",
    "# sellers_table = spark.read.parquet(\"s3://codeop-react/ds/datasets/spark/practice_1/sellers_parquet/unified_sellers.parquet\")"
   ]
  },
  {
   "cell_type": "code",
   "execution_count": null,
   "metadata": {
    "application/vnd.databricks.v1+cell": {
     "cellMetadata": {
      "byteLimit": 2048000,
      "rowLimit": 10000
     },
     "inputWidgets": {},
     "nuid": "31c7f76a-920c-408e-9342-ecc4166b8e72",
     "showTitle": false,
     "title": ""
    }
   },
   "outputs": [
    {
     "name": "stdout",
     "output_type": "stream",
     "text": [
      "Out[27]: ['order_id',\n",
      " 'product_id',\n",
      " 'seller_id',\n",
      " 'date',\n",
      " 'num_pieces_sold',\n",
      " 'bill_raw_text']"
     ]
    }
   ],
   "source": [
    "sales_table.columns\n"
   ]
  },
  {
   "cell_type": "code",
   "execution_count": null,
   "metadata": {
    "application/vnd.databricks.v1+cell": {
     "cellMetadata": {
      "byteLimit": 2048000,
      "rowLimit": 10000
     },
     "inputWidgets": {},
     "nuid": "1b814e33-f98d-4005-9579-e65c787b786c",
     "showTitle": false,
     "title": ""
    }
   },
   "outputs": [
    {
     "name": "stdout",
     "output_type": "stream",
     "text": [
      "root\n",
      " |-- order_id: string (nullable = true)\n",
      " |-- product_id: string (nullable = true)\n",
      " |-- seller_id: string (nullable = true)\n",
      " |-- date: string (nullable = true)\n",
      " |-- num_pieces_sold: string (nullable = true)\n",
      " |-- bill_raw_text: string (nullable = true)\n",
      "\n"
     ]
    }
   ],
   "source": [
    "sales_table.printSchema()"
   ]
  },
  {
   "cell_type": "markdown",
   "metadata": {
    "application/vnd.databricks.v1+cell": {
     "cellMetadata": {},
     "inputWidgets": {},
     "nuid": "11077bd9-7b1a-4f04-9309-3f4ab7f2f6bc",
     "showTitle": false,
     "title": ""
    }
   },
   "source": [
    "1. Print the number of orders"
   ]
  },
  {
   "cell_type": "code",
   "execution_count": null,
   "metadata": {
    "application/vnd.databricks.v1+cell": {
     "cellMetadata": {
      "byteLimit": 2048000,
      "rowLimit": 10000
     },
     "inputWidgets": {},
     "nuid": "cf9d6dcf-f14a-4e0a-9f32-8f9da73dd28a",
     "showTitle": false,
     "title": ""
    }
   },
   "outputs": [
    {
     "name": "stdout",
     "output_type": "stream",
     "text": [
      "Number of Orders: 100195\n"
     ]
    }
   ],
   "source": []
  },
  {
   "cell_type": "markdown",
   "metadata": {
    "application/vnd.databricks.v1+cell": {
     "cellMetadata": {},
     "inputWidgets": {},
     "nuid": "ad967307-2b68-486e-a695-1aab47015be0",
     "showTitle": false,
     "title": ""
    }
   },
   "source": [
    "Number of Orders: 100195"
   ]
  },
  {
   "cell_type": "markdown",
   "metadata": {
    "application/vnd.databricks.v1+cell": {
     "cellMetadata": {},
     "inputWidgets": {},
     "nuid": "a245e02e-6ce1-4e8a-82fe-b9f7f0815a85",
     "showTitle": false,
     "title": ""
    }
   },
   "source": [
    "2. Print the number of sellers"
   ]
  },
  {
   "cell_type": "code",
   "execution_count": null,
   "metadata": {
    "application/vnd.databricks.v1+cell": {
     "cellMetadata": {
      "byteLimit": 2048000,
      "rowLimit": 10000
     },
     "inputWidgets": {},
     "nuid": "5fe3795b-9757-4834-80d9-d76191f10e29",
     "showTitle": false,
     "title": ""
    }
   },
   "outputs": [
    {
     "name": "stdout",
     "output_type": "stream",
     "text": [
      "Number of sellers: 10\n"
     ]
    }
   ],
   "source": []
  },
  {
   "cell_type": "markdown",
   "metadata": {
    "application/vnd.databricks.v1+cell": {
     "cellMetadata": {},
     "inputWidgets": {},
     "nuid": "f538edb3-1d17-470a-834f-8d8f4597e13c",
     "showTitle": false,
     "title": ""
    }
   },
   "source": [
    "Number of sellers: 10"
   ]
  },
  {
   "cell_type": "markdown",
   "metadata": {
    "application/vnd.databricks.v1+cell": {
     "cellMetadata": {},
     "inputWidgets": {},
     "nuid": "4ebe22a1-0e38-4335-8f91-5a6fad55bd07",
     "showTitle": false,
     "title": ""
    }
   },
   "source": [
    "3. Print the number of products"
   ]
  },
  {
   "cell_type": "code",
   "execution_count": null,
   "metadata": {
    "application/vnd.databricks.v1+cell": {
     "cellMetadata": {
      "byteLimit": 2048000,
      "rowLimit": 10000
     },
     "inputWidgets": {},
     "nuid": "72c904f2-d7ee-474d-aeb6-1ad7f58e49c5",
     "showTitle": false,
     "title": ""
    }
   },
   "outputs": [
    {
     "name": "stdout",
     "output_type": "stream",
     "text": [
      "Number of products: 9570548\n"
     ]
    }
   ],
   "source": []
  },
  {
   "cell_type": "markdown",
   "metadata": {
    "application/vnd.databricks.v1+cell": {
     "cellMetadata": {},
     "inputWidgets": {},
     "nuid": "9783ff4f-18ef-4be8-845e-7959f25a54e3",
     "showTitle": false,
     "title": ""
    }
   },
   "source": [
    "Number of products: 9570548"
   ]
  },
  {
   "cell_type": "markdown",
   "metadata": {
    "application/vnd.databricks.v1+cell": {
     "cellMetadata": {},
     "inputWidgets": {},
     "nuid": "b4fe1c0f-10fd-4bb3-86d1-3076dca0dcb2",
     "showTitle": false,
     "title": ""
    }
   },
   "source": [
    "4. Number of products sold at least once"
   ]
  },
  {
   "cell_type": "code",
   "execution_count": null,
   "metadata": {
    "application/vnd.databricks.v1+cell": {
     "cellMetadata": {},
     "inputWidgets": {},
     "nuid": "a478d877-2181-47d3-babd-127240918fa2",
     "showTitle": false,
     "title": ""
    }
   },
   "outputs": [
    {
     "name": "stdout",
     "output_type": "stream",
     "text": [
      "+-----------------+\n",
      "|count(product_id)|\n",
      "+-----------------+\n",
      "|            99513|\n",
      "+-----------------+\n",
      "\n"
     ]
    }
   ],
   "source": []
  },
  {
   "cell_type": "markdown",
   "metadata": {
    "application/vnd.databricks.v1+cell": {
     "cellMetadata": {},
     "inputWidgets": {},
     "nuid": "bf4b9e66-b2e6-47b5-83fb-493062bc9fee",
     "showTitle": false,
     "title": ""
    }
   },
   "source": [
    "result: 99513"
   ]
  },
  {
   "cell_type": "markdown",
   "metadata": {
    "application/vnd.databricks.v1+cell": {
     "cellMetadata": {},
     "inputWidgets": {},
     "nuid": "096c467b-7919-4769-918a-d8c7e912b2f6",
     "showTitle": false,
     "title": ""
    }
   },
   "source": [
    "5. Product present in more orders"
   ]
  },
  {
   "cell_type": "code",
   "execution_count": null,
   "metadata": {
    "application/vnd.databricks.v1+cell": {
     "cellMetadata": {
      "byteLimit": 2048000,
      "rowLimit": 10000
     },
     "inputWidgets": {},
     "nuid": "bf5bbc4a-8ddc-49a9-b862-170cb8398882",
     "showTitle": false,
     "title": ""
    }
   },
   "outputs": [
    {
     "name": "stdout",
     "output_type": "stream",
     "text": [
      "+----------+-----+\n",
      "|product_id|count|\n",
      "+----------+-----+\n",
      "|  31136332|    3|\n",
      "+----------+-----+\n",
      "\n"
     ]
    }
   ],
   "source": []
  },
  {
   "cell_type": "markdown",
   "metadata": {
    "application/vnd.databricks.v1+cell": {
     "cellMetadata": {},
     "inputWidgets": {},
     "nuid": "6cd390a3-6e02-4f7a-8600-6be725267165",
     "showTitle": false,
     "title": ""
    }
   },
   "source": [
    "| product_id | count    |\n",
    "|------------|----------|\n",
    "| 31136332   |    3     |"
   ]
  },
  {
   "cell_type": "markdown",
   "metadata": {
    "application/vnd.databricks.v1+cell": {
     "cellMetadata": {},
     "inputWidgets": {},
     "nuid": "f2e694a9-a93f-4f0a-bc93-07ac4e068543",
     "showTitle": false,
     "title": ""
    }
   },
   "source": [
    "6. How many distinct products have been sold in each date"
   ]
  },
  {
   "cell_type": "code",
   "execution_count": null,
   "metadata": {},
   "outputs": [],
   "source": []
  },
  {
   "cell_type": "markdown",
   "metadata": {
    "application/vnd.databricks.v1+cell": {
     "cellMetadata": {},
     "inputWidgets": {},
     "nuid": "7ed5fbb4-8ac4-4f98-b9b0-601a91fcdcbb",
     "showTitle": false,
     "title": ""
    }
   },
   "source": [
    "|       date | distinct_products_sold |\n",
    "|-----------:|------------------------|\n",
    "| 2020-07-09 | 10137                  |\n",
    "| 2020-07-01 | 10136                  |\n",
    "| 2020-07-04 | 10032                  |\n",
    "| 2020-07-06 | 10030                  |\n",
    "| 2020-07-03 | 10022                  |\n",
    "| 2020-07-08 | 10021                  |\n",
    "| 2020-07-02 | 10003                  |\n",
    "| 2020-07-07 | 9980                   |\n",
    "| 2020-07-05 | 9967                   |\n",
    "| 2020-07-10 | 9801                   |"
   ]
  },
  {
   "cell_type": "markdown",
   "metadata": {
    "application/vnd.databricks.v1+cell": {
     "cellMetadata": {},
     "inputWidgets": {},
     "nuid": "3083b830-c5e5-4dae-b5b8-244c310822bd",
     "showTitle": false,
     "title": ""
    }
   },
   "source": [
    "7. What is the average revenue of the orders?"
   ]
  },
  {
   "cell_type": "code",
   "execution_count": null,
   "metadata": {
    "application/vnd.databricks.v1+cell": {
     "cellMetadata": {
      "byteLimit": 2048000,
      "rowLimit": 10000
     },
     "inputWidgets": {},
     "nuid": "d82a7d82-ebea-4f09-aab5-1818a5728ab8",
     "showTitle": false,
     "title": ""
    }
   },
   "outputs": [
    {
     "name": "stdout",
     "output_type": "stream",
     "text": [
      "+-----------------------+\n",
      "|average_revenue x order|\n",
      "+-----------------------+\n",
      "|     3827.7561790766363|\n",
      "+-----------------------+\n",
      "\n"
     ]
    }
   ],
   "source": []
  },
  {
   "cell_type": "markdown",
   "metadata": {
    "application/vnd.databricks.v1+cell": {
     "cellMetadata": {},
     "inputWidgets": {},
     "nuid": "e8ba1b05-a516-4bbb-8a53-f0165f30b744",
     "showTitle": false,
     "title": ""
    }
   },
   "source": [
    "Result: 3827.7561790766363"
   ]
  }
 ],
 "metadata": {
  "application/vnd.databricks.v1+notebook": {
   "dashboards": [],
   "language": "python",
   "notebookMetadata": {
    "pythonIndentUnit": 4
   },
   "notebookName": "warm_up_small",
   "widgets": {}
  },
  "kernelspec": {
   "display_name": "Python 3 (ipykernel)",
   "language": "python",
   "name": "python3"
  },
  "language_info": {
   "codemirror_mode": {
    "name": "ipython",
    "version": 3
   },
   "file_extension": ".py",
   "mimetype": "text/x-python",
   "name": "python",
   "nbconvert_exporter": "python",
   "pygments_lexer": "ipython3",
   "version": "3.11.4"
  }
 },
 "nbformat": 4,
 "nbformat_minor": 0
}
